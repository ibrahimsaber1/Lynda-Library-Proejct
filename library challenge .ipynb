{
 "cells": [
  {
   "cell_type": "code",
   "execution_count": null,
   "id": "852c5ae1",
   "metadata": {},
   "outputs": [],
   "source": []
  },
  {
   "cell_type": "code",
   "execution_count": 1,
   "id": "cc72e3e1",
   "metadata": {},
   "outputs": [
    {
     "name": "stdout",
     "output_type": "stream",
     "text": [
      "Requirement already satisfied: mysql-connector-python in f:\\anaconda\\envs\\data_science\\lib\\site-packages (8.4.0)\n"
     ]
    }
   ],
   "source": [
    "!pip install mysql-connector-python"
   ]
  },
  {
   "cell_type": "code",
   "execution_count": 2,
   "id": "3a93b08e",
   "metadata": {},
   "outputs": [],
   "source": [
    "import mysql.connector"
   ]
  },
  {
   "cell_type": "code",
   "execution_count": 3,
   "id": "3bf3ff4e",
   "metadata": {},
   "outputs": [
    {
     "data": {
      "text/plain": [
       "mysql.connector.connection_cext.CMySQLConnection"
      ]
     },
     "execution_count": 3,
     "metadata": {},
     "output_type": "execute_result"
    }
   ],
   "source": [
    "conn = mysql.connector.connect(host=\"127.0.0.1\", username=\"root\", password=\"Ibra157him\", database=\"library\",port=3306)\n",
    "type(conn)"
   ]
  },
  {
   "cell_type": "code",
   "execution_count": 4,
   "id": "b6e22f94",
   "metadata": {},
   "outputs": [
    {
     "data": {
      "text/plain": [
       "mysql.connector.cursor_cext.CMySQLCursor"
      ]
     },
     "execution_count": 4,
     "metadata": {},
     "output_type": "execute_result"
    }
   ],
   "source": [
    "\n",
    "cursor = conn.cursor()\n",
    "type(cursor)"
   ]
  },
  {
   "cell_type": "code",
   "execution_count": 10,
   "id": "889bd4ab",
   "metadata": {},
   "outputs": [],
   "source": [
    "# 1 --- --- ---  find the number of availalbe copies of Dracula  :\n",
    "\n",
    "cursor.execute(\"\"\"\n",
    "    select (count(*) - (select COUNT(*) AS LOAND_DRACULA\n",
    "from books b RIGHT join loans l on b.BookID = l.BookID\n",
    "where title = 'Dracula' AND ReturnedDate IS NULL)) AS availalbe_Dracula_copies\n",
    "from books\n",
    "where title = 'Dracula';\n",
    "\"\"\")"
   ]
  },
  {
   "cell_type": "code",
   "execution_count": 18,
   "id": "3b0cd529",
   "metadata": {},
   "outputs": [
    {
     "data": {
      "text/plain": [
       "[]"
      ]
     },
     "execution_count": 18,
     "metadata": {},
     "output_type": "execute_result"
    }
   ],
   "source": [
    "# 1 --- --- ---  find the number of availalbe copies of Dracula  :\n",
    "availalbe_Dracula_copies = cursor.fetchall()\n",
    "availalbe_Dracula_copies"
   ]
  },
  {
   "cell_type": "code",
   "execution_count": 15,
   "id": "38c86b1d",
   "metadata": {},
   "outputs": [
    {
     "name": "stdout",
     "output_type": "stream",
     "text": [
      "the availalbe Dracula copies is 3\n"
     ]
    }
   ],
   "source": [
    "# 1 --- --- ---  find the number of availalbe copies of Dracula  :\n",
    "print(f'the availalbe Dracula copies is {availalbe_Dracula_copies[0][0]}') #the availalbe Dracula copies is 3"
   ]
  },
  {
   "cell_type": "code",
   "execution_count": 21,
   "id": "833dff25",
   "metadata": {},
   "outputs": [],
   "source": [
    "# -- 2--- -- Add new books to the library \n",
    "\n",
    "cursor.execute(\"\"\"\n",
    "insert INTO books values \n",
    "(202,'css','hamad',2023,1234567898 );\"\"\")\n"
   ]
  },
  {
   "cell_type": "code",
   "execution_count": 23,
   "id": "fcc4aad7",
   "metadata": {},
   "outputs": [
    {
     "data": {
      "text/plain": [
       "[]"
      ]
     },
     "execution_count": 23,
     "metadata": {},
     "output_type": "execute_result"
    }
   ],
   "source": [
    "cursor.fetchall()"
   ]
  },
  {
   "cell_type": "code",
   "execution_count": 24,
   "id": "7b67aed9",
   "metadata": {},
   "outputs": [
    {
     "data": {
      "text/plain": [
       "[(202, 'css', 'hamad', 2023, 1234567898)]"
      ]
     },
     "execution_count": 24,
     "metadata": {},
     "output_type": "execute_result"
    }
   ],
   "source": [
    "cursor.execute(\"\"\"\n",
    "SELECT * FROM books\n",
    "where title = 'css';\"\"\")\n",
    "\n",
    "css_cheack = cursor.fetchall()\n",
    "css_cheack # [(202, 'css', 'hamad', 2023, 1234567898)]"
   ]
  },
  {
   "cell_type": "code",
   "execution_count": 25,
   "id": "85d9e0b9",
   "metadata": {},
   "outputs": [
    {
     "data": {
      "text/plain": [
       "[(10,\n",
       "  'The Count of Monte Cristo',\n",
       "  'Kala',\n",
       "  'Simonian',\n",
       "  '2020-07-13',\n",
       "  '2020-07-13'),\n",
       " (155, 'The Prophet', 'Lydie', 'Awmack', '2020-07-13', '2020-07-13'),\n",
       " (169,\n",
       "  'Second Treatise of Government',\n",
       "  'Anthe',\n",
       "  'Dinjes',\n",
       "  '2020-07-13',\n",
       "  '2020-07-13'),\n",
       " (73, 'Dracula', 'Cornelia', 'Koppe', '2020-07-13', '2020-07-13')]"
      ]
     },
     "execution_count": 25,
     "metadata": {},
     "output_type": "execute_result"
    }
   ],
   "source": [
    "# /* Check books for Due back                             */\n",
    "# /* generate a report of books due back on July 13, 2020 */\n",
    "# /* with patron contact information                      */\n",
    "\n",
    "\n",
    "cursor.execute(\"\"\"\n",
    "SELECT b.BookID , b.Title, p.FirstName, p.LastName, l.DueDate , l.ReturnedDate\n",
    "FROM books b join loans l on b.BookID = l.BookID\n",
    "join patrons p on p.PatronID = l.PatronID\n",
    "where l.DueDate = '2020-07-13';\"\"\")\n",
    "\n",
    "cheack_books = cursor.fetchall()\n",
    "cheack_books\n",
    "\n",
    "# [(10,\n",
    "#   'The Count of Monte Cristo',\n",
    "#   'Kala',\n",
    "#   'Simonian',\n",
    "#   '2020-07-13',\n",
    "#   '2020-07-13'),\n",
    "#  (155, 'The Prophet', 'Lydie', 'Awmack', '2020-07-13', '2020-07-13'),\n",
    "#  (169,\n",
    "#   'Second Treatise of Government',\n",
    "#   'Anthe',\n",
    "#   'Dinjes',\n",
    "#   '2020-07-13',\n",
    "#   '2020-07-13'),\n",
    "#  (73, 'Dracula', 'Cornelia', 'Koppe', '2020-07-13', '2020-07-13')]"
   ]
  },
  {
   "cell_type": "code",
   "execution_count": null,
   "id": "83da335f",
   "metadata": {},
   "outputs": [],
   "source": []
  }
 ],
 "metadata": {
  "kernelspec": {
   "display_name": "Python 3 (ipykernel)",
   "language": "python",
   "name": "python3"
  },
  "language_info": {
   "codemirror_mode": {
    "name": "ipython",
    "version": 3
   },
   "file_extension": ".py",
   "mimetype": "text/x-python",
   "name": "python",
   "nbconvert_exporter": "python",
   "pygments_lexer": "ipython3",
   "version": "3.11.9"
  }
 },
 "nbformat": 4,
 "nbformat_minor": 5
}
